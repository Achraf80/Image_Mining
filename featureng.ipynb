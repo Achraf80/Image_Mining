{
  "cells": [
    {
      "cell_type": "code",
      "execution_count": null,
      "metadata": {
        "colab": {
          "base_uri": "https://localhost:8080/"
        },
        "id": "ckB0_MLRo8R8",
        "outputId": "d118e04d-d399-48ef-9d48-96e51a30303a"
      },
      "outputs": [
        {
          "name": "stdout",
          "output_type": "stream",
          "text": [
            "(490, 1000) (490,)\n"
          ]
        }
      ],
      "source": [
        "# Load features and labels\n",
        "import pickle\n",
        "fetauresPath='/content/drive/MyDrive/FeaturesEngineering/'\n",
        "X = pickle.load( open( fetauresPath+\"features_vgg16\", \"rb\" ) )\n",
        "y =pickle.load( open( fetauresPath+\"labels\", \"rb\" ) )\n",
        "\n",
        "import numpy as np\n",
        "print(np.array(X).shape, np.array(y).shape)"
      ]
    },
    {
      "cell_type": "code",
      "execution_count": null,
      "metadata": {
        "id": "JF-see1V80oh"
      },
      "outputs": [],
      "source": [
        "from sklearn import svm\n",
        "from sklearn.model_selection import cross_val_score\n",
        "from sklearn.model_selection import train_test_split\n",
        "import time\n",
        "\n",
        "SVM = svm.SVC(kernel='rbf',C=100,gamma = 0.01)\n",
        "def classify(X,y):\n",
        "    start = time.time()\n",
        "    x_train,x_test,y_train,y_test = train_test_split(np.array(X), np.array(y),test_size=0.2)\n",
        "    SVM.fit(x_train,y_train)\n",
        "    SVM.predict(x_test)\n",
        "    score = cross_val_score(SVM, X, y, cv=2, scoring='accuracy')\n",
        "    return score,time.time()-start\n"
      ]
    },
    {
      "cell_type": "code",
      "execution_count": null,
      "metadata": {
        "id": "Nj79Zn7i-oFE"
      },
      "outputs": [],
      "source": [
        "score,tim = classify(X,y)\n"
      ]
    },
    {
      "cell_type": "code",
      "execution_count": null,
      "metadata": {
        "colab": {
          "base_uri": "https://localhost:8080/"
        },
        "id": "Oz6Kt9suAEUK",
        "outputId": "2e393b82-373f-4f50-b3d4-7ca3aba48e63"
      },
      "outputs": [
        {
          "name": "stdout",
          "output_type": "stream",
          "text": [
            "accuracy :   0.9673469387755103\n",
            "time :   0.059758901596069336  secondes\n"
          ]
        }
      ],
      "source": [
        "print('accuracy :  ',score[0])\n",
        "print('time :  ',tim,' secondes')"
      ]
    },
    {
      "cell_type": "markdown",
      "metadata": {
        "id": "t8mo10o5CKal"
      },
      "source": [
        "<h2>Standarization: z-score normalization\n",
        "\n",
        "---\n",
        "\n",
        "z=(X-µ)/σ"
      ]
    },
    {
      "cell_type": "code",
      "execution_count": null,
      "metadata": {
        "id": "l32kY0aAAH2b"
      },
      "outputs": [],
      "source": [
        "X = np.array(X)\n",
        "y = np.array(y)\n",
        "\n",
        "mu = np.mean(X)\n",
        "ecrt = np.std(X)\n",
        "\n",
        "\"\"\"Standarization\n",
        "Standardize features by removing the mean and scaling to unit variance.\n",
        "z = (x - u) / s\n",
        "where u is the mean of the training samples or zero if with_mean=False\n",
        "s is the standard deviation of the training samples or one if with_std=False.\n",
        "\"\"\"\n",
        "# Xzscore est la matrice de caractéristiques après standardisation\n",
        "Xzscore=(X-mu)/ecrt\n",
        "#print(np.array(Xzscore).shape)\n",
        "zscore,time =  classify(Xzscore,y)"
      ]
    },
    {
      "cell_type": "code",
      "execution_count": null,
      "metadata": {
        "colab": {
          "base_uri": "https://localhost:8080/"
        },
        "id": "m0lAwxRxSakz",
        "outputId": "9103309b-91dc-42ab-a28c-8a3989ee31fa"
      },
      "outputs": [
        {
          "name": "stdout",
          "output_type": "stream",
          "text": [
            "accuracy :   0.9551020408163265\n",
            "time :   0.059758901596069336  secondes\n"
          ]
        }
      ],
      "source": [
        "print('accuracy :  ',zscore[0])\n",
        "print('time :  ',tim,' secondes')"
      ]
    },
    {
      "cell_type": "markdown",
      "metadata": {
        "id": "gF-0p1KOEK_C"
      },
      "source": [
        "<h2>Normalization: min-max normalization"
      ]
    },
    {
      "cell_type": "code",
      "execution_count": null,
      "metadata": {
        "id": "cBzBFGuaC3oV"
      },
      "outputs": [],
      "source": [
        "Xmin = np.min(X)\n",
        "Xmax = np.max(X)\n",
        "\"\"\"Noramlization\n",
        "Xnorm=(X-Xmin)/(Xmax -Xmin).\n",
        "\"\"\"\n",
        "# Xminmax est la matrice de caractéristiques après normalisation\n",
        "Xminmax= (X-Xmin)/(Xmax - Xmin)\n",
        "\n",
        "#print(np.array(Xminmax).shape)\n",
        "nscore,time =  classify(Xminmax,y)"
      ]
    },
    {
      "cell_type": "code",
      "execution_count": null,
      "metadata": {
        "colab": {
          "base_uri": "https://localhost:8080/"
        },
        "id": "NWRIlWrQTJbG",
        "outputId": "a9f38828-b440-432a-ca79-057c0f0f389e"
      },
      "outputs": [
        {
          "name": "stdout",
          "output_type": "stream",
          "text": [
            "accuracy :   0.9673469387755103\n",
            "time :   0.059758901596069336  secondes\n"
          ]
        }
      ],
      "source": [
        "print('accuracy :  ',nscore[0])\n",
        "print('time :  ',tim,' secondes')"
      ]
    },
    {
      "cell_type": "markdown",
      "metadata": {
        "id": "YLLWdHlMEN1x"
      },
      "source": [
        "<h2>Transformation logarithmique"
      ]
    },
    {
      "cell_type": "code",
      "execution_count": null,
      "metadata": {
        "colab": {
          "base_uri": "https://localhost:8080/"
        },
        "id": "XjM5P5geDcAs",
        "outputId": "a3da5e5d-e7a0-4fe0-8a4f-60d4a60fce3d"
      },
      "outputs": [
        {
          "data": {
            "text/plain": [
              "(array([0.81632653, 0.81632653]), 0.2380809783935547)"
            ]
          },
          "execution_count": 91,
          "metadata": {},
          "output_type": "execute_result"
        }
      ],
      "source": [
        "\n",
        "# Transformation logarithmique\n",
        "# Xlog est la matrice de caractéristiques après transformation logarithmique\n",
        "Xlog= np.abs(np.log(X))\n",
        "# Classification utilisant les caractéristiques aprés tranformation logarithmiq\n",
        "classify(Xlog,y)"
      ]
    },
    {
      "cell_type": "code",
      "execution_count": null,
      "metadata": {
        "colab": {
          "base_uri": "https://localhost:8080/"
        },
        "id": "oNIXFqCHEpHY",
        "outputId": "c3ef2efa-c026-4ee6-e8a7-23bfc629a413"
      },
      "outputs": [
        {
          "data": {
            "text/plain": [
              "(array([0.99183673, 0.99183673]), 0.06967759132385254)"
            ]
          },
          "execution_count": 16,
          "metadata": {},
          "output_type": "execute_result"
        }
      ],
      "source": [
        "XminL = np.min(Xlog)\n",
        "XmaxL = np.max(Xlog)\n",
        "# Normalization aprés TL\n",
        "Xminmax_Log= (Xlog - XminL)/(XmaxL - XminL) \n",
        "\n",
        "classify(Xminmax_Log,y)"
      ]
    },
    {
      "cell_type": "code",
      "execution_count": null,
      "metadata": {
        "colab": {
          "base_uri": "https://localhost:8080/"
        },
        "id": "evXJz-ckFW0A",
        "outputId": "42a87906-2c0f-47f6-b52d-d8661e333654"
      },
      "outputs": [
        {
          "data": {
            "text/plain": [
              "(array([0.96734694, 0.98367347]), 0.2842569351196289)"
            ]
          },
          "execution_count": 17,
          "metadata": {},
          "output_type": "execute_result"
        }
      ],
      "source": [
        "# Standarization + TL\n",
        "# la moyen de x\n",
        "mu = np.mean(Xlog)\n",
        "# l'equar type de x\n",
        "s = np.std(Xlog)\n",
        "# Xzscore est la matrice de caractéristiques après standardisation\n",
        "Xzscore_Log=(Xlog - mu)/s\n",
        "classify(Xzscore_Log,y)"
      ]
    },
    {
      "cell_type": "markdown",
      "metadata": {
        "id": "GrBEI_RYGSry"
      },
      "source": [
        "<h1>Sélection de caractéristiques (features selection)\n",
        "\n",
        "\n",
        "\n",
        "---\n",
        "<h2>Suppression des caractéristiques à faible variance\n"
      ]
    },
    {
      "cell_type": "code",
      "execution_count": null,
      "metadata": {
        "colab": {
          "base_uri": "https://localhost:8080/"
        },
        "id": "WALePPK6F_Hn",
        "outputId": "bfb4dd33-fb30-4435-aa62-ee77dbb4104f"
      },
      "outputs": [
        {
          "data": {
            "text/plain": [
              "(array([0.96734694, 0.98367347]), 0.3474729061126709)"
            ]
          },
          "execution_count": 21,
          "metadata": {},
          "output_type": "execute_result"
        }
      ],
      "source": [
        "# Nous allons utiliser les caractéristiques après normalisation Min-Max\n",
        "# Xvth est la matrice de caractéristiques après suppression des caractéristiques (après normalisation Min-Max)  à faible variance\n",
        "from sklearn.feature_selection import VarianceThreshold\n",
        "sp = VarianceThreshold() \n",
        "Xvth=sp.fit_transform(Xzscore_Log)\n",
        "classify(Xvth,y)"
      ]
    },
    {
      "cell_type": "markdown",
      "metadata": {
        "id": "cZDarZczH50J"
      },
      "source": [
        "<h2>chi2"
      ]
    },
    {
      "cell_type": "code",
      "execution_count": null,
      "metadata": {
        "colab": {
          "base_uri": "https://localhost:8080/"
        },
        "id": "sMIyytwMGxxC",
        "outputId": "fc09bca3-ce1b-4889-9f33-c1ff6a5afebb"
      },
      "outputs": [
        {
          "data": {
            "text/plain": [
              "(array([0.96734694, 0.96326531]), 0.047460079193115234)"
            ]
          },
          "execution_count": 22,
          "metadata": {},
          "output_type": "execute_result"
        }
      ],
      "source": [
        "from sklearn.feature_selection import chi2,SelectKBest\n",
        "#Xchi2 est la matrice de caractéristiques après sélection de 100 caractéristiques utilisant chi2\n",
        "chi2_cara = SelectKBest(chi2, k = 100)\n",
        "Xchi2 = chi2_cara.fit_transform(X, y)\n",
        "classify(Xchi2,y)"
      ]
    }
  ],
  "metadata": {
    "colab": {
      "provenance": [],
      "mount_file_id": "1JWVVw0zHbCJspmZvpK8x2MwICJuibw59",
      "authorship_tag": "ABX9TyN2GU0uaUIb91mTzkIyUawI"
    },
    "kernelspec": {
      "display_name": "Python 3",
      "name": "python3"
    },
    "language_info": {
      "name": "python"
    }
  },
  "nbformat": 4,
  "nbformat_minor": 0
}